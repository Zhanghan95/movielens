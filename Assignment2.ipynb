{
 "cells": [
  {
   "cell_type": "code",
   "execution_count": 2,
   "metadata": {},
   "outputs": [
    {
     "name": "stdout",
     "output_type": "stream",
     "text": [
      "Processed 100837 rows.\n"
     ]
    }
   ],
   "source": [
    "import csv\n",
    "\n",
    "data = []\n",
    "\n",
    "with open('/Users/cpwang/desktop/movielens/ml-latest-small/ratings.csv') as ratings:\n",
    "    rating_reader = csv.reader(ratings, delimiter=',')\n",
    "    line_count = 0\n",
    "    for row in rating_reader:\n",
    "        if line_count == 0:\n",
    "            line_count += 1\n",
    "            continue\n",
    "        else:\n",
    "            # row is a list of string with the form [userId, movieId, rating, timestamp]\n",
    "            data.append(row)\n",
    "            line_count += 1\n",
    "    print('Processed ' + str(line_count) + ' rows.')"
   ]
  },
  {
   "cell_type": "code",
   "execution_count": 61,
   "metadata": {},
   "outputs": [
    {
     "name": "stdout",
     "output_type": "stream",
     "text": [
      "The performance of this predictior(in terms of MSE) on the testing set is 0.886038345028\n"
     ]
    }
   ],
   "source": [
    "from random import shuffle\n",
    "from collections import defaultdict\n",
    "shuffle(data)\n",
    "\n",
    "training_set = data[0:len(data)//3]\n",
    "validation_set = data[len(data)//3:len(data)//3*2]\n",
    "testing_set = data[len(data)//3*2:len(data)]\n",
    "\n",
    "allRatings = []\n",
    "userRatings = defaultdict(list)\n",
    "\n",
    "for l in training_set:\n",
    "    user,movie = l[0],l[1]\n",
    "    allRatings.append(float(l[2]))\n",
    "    userRatings[user].append(float(l[2]))\n",
    "\n",
    "globalAverage = sum(allRatings) / len(allRatings)\n",
    "userAverage = {}\n",
    "for u in userRatings:\n",
    "    userAverage[u] = sum(userRatings[u]) / len(userRatings[u])\n",
    "\n",
    "MSE = 0\n",
    "# calculating prediction accuracy\n",
    "for l in testing_set:\n",
    "    u,m,r = l[0],l[1],float(l[2])\n",
    "    if u in userAverage:\n",
    "        prediction = userAverage[u]\n",
    "    else:\n",
    "        prediction = globalAverage\n",
    "    MSE += pow(prediction-r, 2)\n",
    "MSE = MSE / len(testing_set)\n",
    "print('The performance of this predictior(in terms of MSE) on the testing set is ' + str(MSE))"
   ]
  },
  {
   "cell_type": "code",
   "execution_count": 62,
   "metadata": {},
   "outputs": [
    {
     "name": "stdout",
     "output_type": "stream",
     "text": [
      "The alpha value is: 3.50218671903\n"
     ]
    }
   ],
   "source": [
    "alpha = globalAverage\n",
    "print(\"The alpha value is: \" + str(alpha))"
   ]
  },
  {
   "cell_type": "code",
   "execution_count": 63,
   "metadata": {},
   "outputs": [],
   "source": [
    "import numpy as np\n",
    "items = list(set(entry[1] for entry in training_set))\n",
    "users = list(set(entry[0] for entry in training_set))\n",
    "userID = dict(zip(users, range(len(users))))\n",
    "itemID = dict(zip(items, range(len(items))))\n",
    "Ratings = np.zeros((len(users), len(items)))"
   ]
  },
  {
   "cell_type": "code",
   "execution_count": 64,
   "metadata": {},
   "outputs": [],
   "source": [
    "UI = defaultdict(list)\n",
    "IU = defaultdict(list)\n",
    "\n",
    "for d in training_set:\n",
    "    user = userID[d[0]]\n",
    "    item = itemID[d[1]]\n",
    "    Ratings[user][item] = d[2]\n",
    "    UI[d[0]].append(d[1])\n",
    "    IU[d[1]].append(d[0])"
   ]
  },
  {
   "cell_type": "code",
   "execution_count": 65,
   "metadata": {},
   "outputs": [],
   "source": [
    "from __future__ import division\n",
    "beta_u = {}\n",
    "beta_i = {}\n",
    "for user in UI:\n",
    "    bias = 0\n",
    "    counter = 0\n",
    "    for item in UI[user]:\n",
    "        counter += 1\n",
    "        bias += Ratings[userID[user]][itemID[item]] - alpha\n",
    "    if counter == 0:\n",
    "        beta_u[user] = 0\n",
    "    else:\n",
    "        beta_u[user] = bias / counter\n",
    "for item in IU:\n",
    "    bias = 0\n",
    "    counter = 0\n",
    "    for user in IU[item]:\n",
    "        counter += 1\n",
    "        bias += Ratings[userID[user]][itemID[item]] - alpha\n",
    "    if counter == 0:\n",
    "        beta_i[item] = 0\n",
    "    else:\n",
    "        beta_i[item] = bias / counter"
   ]
  },
  {
   "cell_type": "code",
   "execution_count": 66,
   "metadata": {},
   "outputs": [],
   "source": [
    "def gradientDescent(alpha, beta_i, beta_u, training_set, iterations, lamda):\n",
    "    curIter = 0\n",
    "    validation_mse_list = []\n",
    "    training_mse_list = []\n",
    "    alpha_list = []\n",
    "    beta_u_list = []\n",
    "    beta_i_list = []\n",
    "    while curIter < iterations:\n",
    "        alpha = np.sum([Ratings[userID[d[0]]][itemID[d[1]]]] - (beta_u[d[0]] + beta_i[d[1]]) for d in training_set) / float(len(training_set))\n",
    "        \n",
    "        for user in UI:\n",
    "            userIndex = userID[user]\n",
    "            for item in UI[user]:\n",
    "                itemIndex = itemID[item]\n",
    "                beta_u[user] += (Ratings[userIndex][itemIndex] - alpha - beta_i[item])\n",
    "            beta_u[user] = beta_u[user] / (lamda + float(len(UI[user])))\n",
    "            \n",
    "        for item in IU:\n",
    "            itemIndex = itemID[item]\n",
    "            for user in IU[item]:\n",
    "                userIndex = userID[user]\n",
    "                beta_i[item] += (Ratings[userIndex][itemIndex] - alpha - beta_u[user])\n",
    "            beta_i[item] = beta_i[item] / (lamda + float(len(IU[item])))\n",
    "            \n",
    "        y_predict = []\n",
    "        for d in validation_set:\n",
    "            prediction = 0\n",
    "            user = d[0]\n",
    "            item = d[1]\n",
    "            if user in userID:\n",
    "                prediction += beta_u[user]\n",
    "            if item in itemID:\n",
    "                prediction += beta_i[item]\n",
    "            prediction += alpha\n",
    "            y_predict.append(prediction)\n",
    "        \n",
    "        validation_mse = sum([(float(validation_set[index][2]) - y_predict[index]) * (float(validation_set[index][2]) - y_predict[index]) for index in range(0, len(validation_set))]) / float(len(validation_set))\n",
    "        \n",
    "        training_mse = sum([(alpha + beta_u[training_set[index][0]] + beta_i[training_set[index][1]] - float(training_set[index][2])) * \\\n",
    "                            (alpha + beta_u[training_set[index][0]] + beta_i[training_set[index][1]] - float(training_set[index][2])) \\\n",
    "                            for index in range(0, len(training_set))]) / float(len(training_set))\n",
    "        curIter += 1\n",
    "        validation_mse_list.append(validation_mse)\n",
    "        training_mse_list.append(training_mse)\n",
    "        beta_u_list.append(beta_u)\n",
    "        beta_i_list.append(beta_i)\n",
    "        alpha_list.append(alpha)\n",
    "        if (curIter % 10 == 0):\n",
    "            print(\"# of iteration: \" + str(curIter))\n",
    "            print(\"MSE on training set: \" + str(training_mse)) \n",
    "            print(\"MSE on validation set: \" + str(validation_mse))\n",
    "    return alpha_list, beta_u_list, beta_i_list, validation_mse_list, training_mse_list\n",
    "    "
   ]
  },
  {
   "cell_type": "code",
   "execution_count": 67,
   "metadata": {},
   "outputs": [
    {
     "name": "stderr",
     "output_type": "stream",
     "text": [
      "/Users/cpwang/Library/Python/2.7/lib/python/site-packages/ipykernel_launcher.py:9: DeprecationWarning: Calling np.sum(generator) is deprecated, and in the future will give a different result. Use np.sum(np.from_iter(generator)) or the python sum builtin instead.\n",
      "  if __name__ == '__main__':\n"
     ]
    },
    {
     "name": "stdout",
     "output_type": "stream",
     "text": [
      "# of iteration: 10\n",
      "MSE on training set: [0.69771541]\n",
      "MSE on validation set: [0.79637664]\n",
      "# of iteration: 20\n",
      "MSE on training set: [0.69787677]\n",
      "MSE on validation set: [0.79656586]\n",
      "# of iteration: 30\n",
      "MSE on training set: [0.69794419]\n",
      "MSE on validation set: [0.79664578]\n",
      "# of iteration: 40\n",
      "MSE on training set: [0.69796653]\n",
      "MSE on validation set: [0.79667228]\n",
      "# of iteration: 50\n",
      "MSE on training set: [0.69797367]\n",
      "MSE on validation set: [0.79668074]\n",
      "# of iteration: 60\n",
      "MSE on training set: [0.69797592]\n",
      "MSE on validation set: [0.79668341]\n",
      "# of iteration: 70\n",
      "MSE on training set: [0.69797663]\n",
      "MSE on validation set: [0.79668426]\n",
      "# of iteration: 80\n",
      "MSE on training set: [0.69797685]\n",
      "MSE on validation set: [0.79668452]\n",
      "# of iteration: 90\n",
      "MSE on training set: [0.69797692]\n",
      "MSE on validation set: [0.7966846]\n",
      "# of iteration: 100\n",
      "MSE on training set: [0.69797694]\n",
      "MSE on validation set: [0.79668463]\n"
     ]
    }
   ],
   "source": [
    "alpha_list, beta_u_list, beta_i_list, validation_mse_list, training_mse_list = gradientDescent(alpha, beta_i, beta_u, training_set, 100, 10.0)"
   ]
  }
 ],
 "metadata": {
  "kernelspec": {
   "display_name": "Python 2",
   "language": "python",
   "name": "python2"
  },
  "language_info": {
   "codemirror_mode": {
    "name": "ipython",
    "version": 2
   },
   "file_extension": ".py",
   "mimetype": "text/x-python",
   "name": "python",
   "nbconvert_exporter": "python",
   "pygments_lexer": "ipython2",
   "version": "2.7.10"
  }
 },
 "nbformat": 4,
 "nbformat_minor": 2
}
