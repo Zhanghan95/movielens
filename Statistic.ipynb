{
 "cells": [
  {
   "cell_type": "code",
   "execution_count": 1,
   "metadata": {},
   "outputs": [
    {
     "name": "stdout",
     "output_type": "stream",
     "text": [
      "Processed 100837 rows.\n"
     ]
    }
   ],
   "source": [
    "import csv\n",
    "\n",
    "data = []\n",
    "\n",
    "with open('./ml-latest-small/ratings.csv') as ratings:\n",
    "    rating_reader = csv.reader(ratings, delimiter=',')\n",
    "    line_count = 0\n",
    "    for row in rating_reader:\n",
    "        if line_count == 0:\n",
    "            line_count += 1\n",
    "            continue\n",
    "        else:\n",
    "            # row is a list of string with the form [userId, movieId, rating, timestamp]\n",
    "            data.append(row)\n",
    "            line_count += 1\n",
    "    print('Processed ' + str(line_count) + ' rows.')"
   ]
  },
  {
   "cell_type": "code",
   "execution_count": 2,
   "metadata": {},
   "outputs": [
    {
     "name": "stdout",
     "output_type": "stream",
     "text": [
      "Processed 9743 rows.\n"
     ]
    }
   ],
   "source": [
    "genres=[]\n",
    "with open('./ml-latest-small/movies.csv',errors='ignore') as ratings:\n",
    "    rating_reader = csv.reader(ratings, delimiter=',')\n",
    "    line_count = 0\n",
    "    for row in rating_reader:\n",
    "        if line_count == 0:\n",
    "            line_count += 1\n",
    "            continue\n",
    "        else:\n",
    "            # row is a list of string with the form [userId, movieId, rating, timestamp]\n",
    "            genres.append(row)\n",
    "            line_count += 1\n",
    "    print('Processed ' + str(line_count) + ' rows.')"
   ]
  },
  {
   "cell_type": "code",
   "execution_count": 3,
   "metadata": {},
   "outputs": [
    {
     "name": "stdout",
     "output_type": "stream",
     "text": [
      "['1', 'Toy Story (1995)', 'Adventure|Animation|Children|Comedy|Fantasy']\n"
     ]
    }
   ],
   "source": [
    "print(genres[0])"
   ]
  },
  {
   "cell_type": "code",
   "execution_count": 4,
   "metadata": {},
   "outputs": [
    {
     "name": "stdout",
     "output_type": "stream",
     "text": [
      "Processed 3684 rows.\n"
     ]
    }
   ],
   "source": [
    "tags=[]\n",
    "with open('./ml-latest-small/tags.csv',errors='ignore') as ratings:\n",
    "    rating_reader = csv.reader(ratings, delimiter=',')\n",
    "    line_count = 0\n",
    "    for row in rating_reader:\n",
    "        if line_count == 0:\n",
    "            line_count += 1\n",
    "            continue\n",
    "        else:\n",
    "            # row is a list of string with the form [userId, movieId, rating, timestamp]\n",
    "            tags.append(row)\n",
    "            line_count += 1\n",
    "    print('Processed ' + str(line_count) + ' rows.')"
   ]
  },
  {
   "cell_type": "code",
   "execution_count": 5,
   "metadata": {},
   "outputs": [
    {
     "name": "stdout",
     "output_type": "stream",
     "text": [
      "['2', '60756', 'funny', '1445714994']\n"
     ]
    }
   ],
   "source": [
    "print(tags[0])"
   ]
  },
  {
   "cell_type": "code",
   "execution_count": 59,
   "metadata": {},
   "outputs": [
    {
     "name": "stdout",
     "output_type": "stream",
     "text": [
      "1589\n"
     ]
    }
   ],
   "source": [
    "from collections import defaultdict\n",
    "tag=set()\n",
    "movieTags=defaultdict(set)\n",
    "idToTags=defaultdict(set)\n",
    "for i in tags:\n",
    "#     print(i[1],i[2])\n",
    "    idToTags[i[1]].add(i[2])\n",
    "    movieTags[i[1]].add(i[2])\n",
    "    tag.add(i[2])\n",
    "print(len(tag))"
   ]
  },
  {
   "cell_type": "code",
   "execution_count": 7,
   "metadata": {},
   "outputs": [
    {
     "name": "stdout",
     "output_type": "stream",
     "text": [
      "{'296'}\n"
     ]
    },
    {
     "data": {
      "text/plain": [
       "Counter({1: 1016,\n",
       "         2: 239,\n",
       "         3: 98,\n",
       "         4: 47,\n",
       "         5: 37,\n",
       "         6: 43,\n",
       "         7: 26,\n",
       "         8: 24,\n",
       "         9: 13,\n",
       "         10: 7,\n",
       "         11: 2,\n",
       "         12: 2,\n",
       "         13: 3,\n",
       "         14: 1,\n",
       "         15: 1,\n",
       "         17: 2,\n",
       "         18: 2,\n",
       "         19: 2,\n",
       "         21: 1,\n",
       "         31: 1,\n",
       "         32: 2,\n",
       "         40: 1,\n",
       "         48: 1,\n",
       "         173: 1})"
      ]
     },
     "execution_count": 7,
     "metadata": {},
     "output_type": "execute_result"
    }
   ],
   "source": [
    "from collections import Counter\n",
    "tagLengths=[]\n",
    "movieTagLen=defaultdict(set)\n",
    "for k,v in movieTags.items():\n",
    "    tagLengths.append(len(v))\n",
    "    movieTagLen[len(v)].add(k)\n",
    "print(movieTagLen[173])\n",
    "Counter(tagLengths)\n"
   ]
  },
  {
   "cell_type": "code",
   "execution_count": 8,
   "metadata": {
    "collapsed": true
   },
   "outputs": [],
   "source": [
    "nameToGenre=defaultdict(set)\n",
    "idToName=defaultdict(str)\n",
    "idToGenre=defaultdict(set)\n",
    "for i in genres:\n",
    "    g = i[2].split(\"|\")\n",
    "    for a in g:\n",
    "        idToGenre[i[0]].add(a)\n",
    "        nameToGenre[i[1]].add(a)\n",
    "    idToName[i[0]]=i[1]\n",
    "    "
   ]
  },
  {
   "cell_type": "code",
   "execution_count": 9,
   "metadata": {},
   "outputs": [
    {
     "data": {
      "text/plain": [
       "'Pulp Fiction (1994)'"
      ]
     },
     "execution_count": 9,
     "metadata": {},
     "output_type": "execute_result"
    }
   ],
   "source": [
    "idToName['296']"
   ]
  },
  {
   "cell_type": "code",
   "execution_count": 10,
   "metadata": {},
   "outputs": [
    {
     "data": {
      "text/plain": [
       "{'1990s',\n",
       " 'AWESOME',\n",
       " 'Black comedy',\n",
       " 'Harvey Keitel',\n",
       " 'Highly quotable',\n",
       " 'John Travolta',\n",
       " 'Mafia',\n",
       " \"Palme d'Or\",\n",
       " 'Quentin Tarantino',\n",
       " 'Quotable',\n",
       " 'Roger Avary',\n",
       " 'Samuel L. Jackson',\n",
       " 'Steve Buscemi',\n",
       " 'Tarantino',\n",
       " 'Uma Thurman',\n",
       " 'achronological',\n",
       " 'action',\n",
       " 'action packed',\n",
       " 'aggressive',\n",
       " 'amazing',\n",
       " 'amazing dialogues',\n",
       " 'anthology',\n",
       " 'assassin',\n",
       " 'atmospheric',\n",
       " 'bad ass',\n",
       " 'bad language',\n",
       " 'bad-ass',\n",
       " 'bible',\n",
       " 'biblical references',\n",
       " 'big boys with guns',\n",
       " 'big name actors',\n",
       " 'black humor',\n",
       " 'black humour',\n",
       " 'blood',\n",
       " 'blood splatters',\n",
       " 'bloody',\n",
       " 'bruce willis',\n",
       " 'brutality',\n",
       " 'casual violence',\n",
       " 'character development',\n",
       " 'characters',\n",
       " 'classic',\n",
       " 'classic movie',\n",
       " 'coke',\n",
       " 'comedy',\n",
       " 'conversation',\n",
       " 'cool',\n",
       " 'cool style',\n",
       " 'crime',\n",
       " 'crime scene scrubbing',\n",
       " 'cult',\n",
       " 'cult classic',\n",
       " 'cult film',\n",
       " 'dance',\n",
       " 'dancing',\n",
       " 'dark',\n",
       " 'dark comedy',\n",
       " 'dark humor',\n",
       " 'dialogue',\n",
       " 'different',\n",
       " 'diner',\n",
       " 'disjointed timeline',\n",
       " 'disturbing',\n",
       " 'drama',\n",
       " 'drug overdose',\n",
       " 'drugs',\n",
       " 'drugs & music',\n",
       " 'ensemble cast',\n",
       " 'entertaining',\n",
       " 'entirely dialogue',\n",
       " 'episodic',\n",
       " 'exciting',\n",
       " 'fast paced',\n",
       " 'fast-paced',\n",
       " 'film noir',\n",
       " 'film-noir',\n",
       " 'foul language',\n",
       " 'fun',\n",
       " 'funny',\n",
       " 'gangster',\n",
       " 'gangsters',\n",
       " 'genius',\n",
       " 'golden watch',\n",
       " 'good dialogue',\n",
       " 'good music',\n",
       " 'gore',\n",
       " 'great acting',\n",
       " 'great dialogue',\n",
       " 'great soundtrack',\n",
       " 'gritty',\n",
       " 'guns',\n",
       " 'heroin',\n",
       " 'hit men',\n",
       " 'hitman',\n",
       " 'homosexuality',\n",
       " 'humour',\n",
       " 'iconic',\n",
       " 'imdb top 250',\n",
       " 'innovative',\n",
       " 'intellectual',\n",
       " 'intelligent',\n",
       " 'intense',\n",
       " 'interesting',\n",
       " 'intertwining storylines',\n",
       " 'interwoven storylines',\n",
       " 'ironic',\n",
       " 'irony',\n",
       " 'killer-as-protagonist',\n",
       " 'los angeles',\n",
       " 'masterpiece',\n",
       " 'meaningless violence',\n",
       " 'milkshake',\n",
       " 'mobster',\n",
       " 'mobsters',\n",
       " 'monologue',\n",
       " 'motherfucker',\n",
       " 'multiple stories',\n",
       " 'multiple storylines',\n",
       " 'neo-noir',\n",
       " 'noir',\n",
       " 'non-linear',\n",
       " 'non-linear timeline',\n",
       " 'nonlinear',\n",
       " 'nonlinear narrative',\n",
       " 'nonlinear storyline',\n",
       " 'nonlinear timeline',\n",
       " 'notable soundtrack',\n",
       " 'offensive',\n",
       " 'organised crime',\n",
       " 'organized crime',\n",
       " 'original',\n",
       " 'original plot',\n",
       " 'out of order',\n",
       " 'parody',\n",
       " 'philosophical',\n",
       " 'pop culture references',\n",
       " 'psychological',\n",
       " 'pulp',\n",
       " 'quirky',\n",
       " 'r:disturbing violent content including rape',\n",
       " 'r:disturbing violent images',\n",
       " 'r:graphic sexuality',\n",
       " 'r:some violence',\n",
       " 'r:strong bloody violence',\n",
       " 'r:strong language',\n",
       " 'r:sustained strong stylized violence',\n",
       " 'r:violence',\n",
       " 'random',\n",
       " 'rape',\n",
       " 'retro',\n",
       " 'royal with cheese',\n",
       " 'sarcasm',\n",
       " 'satire',\n",
       " 'sexy',\n",
       " 'smart writing',\n",
       " 'sophisticated',\n",
       " 'soundtrack',\n",
       " 'splatter',\n",
       " 'storytelling',\n",
       " 'stylish',\n",
       " 'stylized',\n",
       " 'suspense',\n",
       " 'thought-provoking',\n",
       " 'thriller',\n",
       " 'travolta',\n",
       " 'twist ending',\n",
       " 'unique',\n",
       " 'unpredictable',\n",
       " 'unusual',\n",
       " 'very funny',\n",
       " 'violence',\n",
       " 'violent',\n",
       " 'witty'}"
      ]
     },
     "execution_count": 10,
     "metadata": {},
     "output_type": "execute_result"
    }
   ],
   "source": [
    "movieTags['296']"
   ]
  },
  {
   "cell_type": "code",
   "execution_count": 61,
   "metadata": {
    "collapsed": true
   },
   "outputs": [],
   "source": [
    "genreToTags=defaultdict(set)\n",
    "for i in genres:\n",
    "    gs=idToGenre[i[0]]\n",
    "    ts=idToTags[i[0]]\n",
    "    for g in gs:\n",
    "        for t in ts:\n",
    "            genreToTags[g].add(t)"
   ]
  },
  {
   "cell_type": "code",
   "execution_count": 62,
   "metadata": {},
   "outputs": [
    {
     "name": "stdout",
     "output_type": "stream",
     "text": [
      "IMAX 127\n",
      "Drama 1028\n",
      "Thriller 611\n",
      "Romance 421\n",
      "Sci-Fi 390\n",
      "Musical 88\n",
      "Crime 492\n",
      "Animation 150\n",
      "Film-Noir 42\n",
      "(no genres listed) 3\n",
      "Fantasy 202\n",
      "Adventure 396\n",
      "Action 507\n",
      "Mystery 246\n",
      "Documentary 84\n",
      "War 115\n",
      "Western 55\n",
      "Comedy 673\n",
      "Horror 146\n",
      "Children 123\n"
     ]
    }
   ],
   "source": [
    "for k,v in genreToTags.items():\n",
    "    print(k,len(v))"
   ]
  },
  {
   "cell_type": "code",
   "execution_count": 102,
   "metadata": {},
   "outputs": [],
   "source": [
    "tagRating=defaultdict(list)\n",
    "for i in data:\n",
    "    mid = i[1]\n",
    "    ts=idToTags[mid]\n",
    "    for t in ts:\n",
    "        tagRating[t].append(i[2])"
   ]
  },
  {
   "cell_type": "code",
   "execution_count": 153,
   "metadata": {},
   "outputs": [
    {
     "name": "stderr",
     "output_type": "stream",
     "text": [
      "D:\\Anaconda3\\lib\\site-packages\\numpy\\core\\fromnumeric.py:2920: RuntimeWarning: Mean of empty slice.\n",
      "  out=out, **kwargs)\n",
      "D:\\Anaconda3\\lib\\site-packages\\numpy\\core\\_methods.py:85: RuntimeWarning: invalid value encountered in double_scalars\n",
      "  ret = ret.dtype.type(ret / rcount)\n"
     ]
    }
   ],
   "source": [
    "tagAvgRating=defaultdict(int)\n",
    "for k,v in tagRating.items():\n",
    "    li=[float(i) for i in v]\n",
    "    tagAvgRating[k]=np.mean(li)"
   ]
  },
  {
   "cell_type": "code",
   "execution_count": 205,
   "metadata": {},
   "outputs": [],
   "source": [
    "s = [(k, tagAvgRating[k]) for k in sorted(tagAvgRating, key=tagAvgRating.get, reverse=True)]"
   ]
  },
  {
   "cell_type": "code",
   "execution_count": 155,
   "metadata": {},
   "outputs": [
    {
     "name": "stdout",
     "output_type": "stream",
     "text": [
      "creativity \t 5.0 \t 1\n",
      "procedural \t 5.0 \t 1\n",
      "free to download \t 5.0 \t 1\n",
      "no dialogue \t 5.0 \t 1\n",
      "human rights \t 5.0 \t 1\n",
      "thought provoking \t 4.75 \t 4\n",
      "Dystopia \t 4.75 \t 4\n",
      "jon hamm \t 4.75 \t 4\n",
      "movies about movies \t 4.666666666666667 \t 3\n",
      "prejudice \t 4.545454545454546 \t 11\n",
      "Teen movie \t 2.409090909090909 \t 22\n",
      "batman \t 2.34375 \t 16\n",
      "ben affleck \t 2.34375 \t 16\n",
      "flood \t 2.25 \t 2\n",
      "jungle \t 2.1363636363636362 \t 11\n",
      "SNL \t 2.1 \t 10\n",
      "Tokyo \t 2.0 \t 1\n",
      "stage \t 1.75 \t 2\n",
      "shark \t 1.4166666666666667 \t 6\n",
      "symbolic \t 0.5 \t 1\n"
     ]
    }
   ],
   "source": [
    "for k,v in s[:5]:\n",
    "    print(k,'\\t',v,'\\t',len(tagRating[k]))    \n",
    "for k,v in s[-5:]:\n",
    "    print(k,'\\t',v,'\\t',len(tagRating[k]))    "
   ]
  },
  {
   "cell_type": "code",
   "execution_count": 107,
   "metadata": {},
   "outputs": [],
   "source": [
    "genreRating=defaultdict(list)\n",
    "for i in data:\n",
    "    mid = i[1]\n",
    "    gs=idToGenre[mid]\n",
    "    for g in gs:\n",
    "        genreRating[g].append(i[2])\n",
    "genreAvgRating=defaultdict(int)\n",
    "for k,v in genreRating.items():\n",
    "    li=[float(i) for i in v]\n",
    "    genreAvgRating[k]=np.mean(li)        "
   ]
  },
  {
   "cell_type": "code",
   "execution_count": 203,
   "metadata": {},
   "outputs": [
    {
     "name": "stdout",
     "output_type": "stream",
     "text": [
      "Film-Noir\n",
      "War\n",
      "Documentary\n",
      "Crime\n",
      "Drama\n",
      "Mystery\n",
      "Animation\n",
      "IMAX\n",
      "Western\n",
      "Musical\n",
      "Adventure\n",
      "Romance\n",
      "Thriller\n",
      "Fantasy\n",
      "(no genres listed)\n",
      "Sci-Fi\n",
      "Action\n",
      "Children\n",
      "Comedy\n",
      "Horror\n"
     ]
    }
   ],
   "source": [
    "s = [(k, genreAvgRating[k]) for k in sorted(genreAvgRating, key=genreAvgRating.get, reverse=True)]\n",
    "for k,v in s[:10]:\n",
    "    print(k,'\\t',v,'\\t',len(genreRating[k]))    \n",
    "for k,v in s[-10:]:\n",
    "    print(k,'\\t',v,'\\t',len(genreRating[k]))    "
   ]
  },
  {
   "cell_type": "code",
   "execution_count": 231,
   "metadata": {},
   "outputs": [
    {
     "name": "stdout",
     "output_type": "stream",
     "text": [
      "wrongful imprisonment \t 4.429022082018927 \t 317\n",
      "prison \t 4.393041237113402 \t 388\n",
      "Screwball \t 4.366666666666666 \t 30\n",
      "Morgan Freeman \t 4.344783715012722 \t 393\n",
      "Middle East \t 4.3 \t 45\n",
      "imaginary friend \t 4.272935779816514 \t 218\n",
      "mind-blowing \t 4.272935779816514 \t 218\n",
      "Palahnuik \t 4.272935779816514 \t 218\n",
      "David Fincher \t 4.272935779816514 \t 218\n",
      "TERRORISM \t 4.272935779816514 \t 218\n",
      "societal criticism \t 4.272935779816514 \t 218\n",
      "psychological thriller \t 4.272935779816514 \t 218\n",
      "Chuck Palahniuk \t 4.272935779816514 \t 218\n",
      "double life \t 4.272935779816514 \t 218\n",
      "challenging \t 4.272935779816514 \t 218\n",
      "consumerism \t 4.272935779816514 \t 218\n",
      "Europe \t 3.34 \t 50\n",
      "Disaster \t 3.321138211382114 \t 123\n",
      "soccer \t 3.3 \t 40\n",
      "Emma \t 3.293269230769231 \t 104\n",
      "lawyers \t 3.214814814814815 \t 135\n",
      "cameo:Whoopi Goldberg \t 3.1515151515151514 \t 33\n",
      "plot holes \t 3.1508620689655173 \t 116\n",
      "Audrey Tautou \t 3.122448979591837 \t 49\n",
      "prequel \t 3.107142857142857 \t 140\n",
      "M. Night Shyamalan \t 3.1 \t 35\n",
      "Dr. Seuss \t 3.0454545454545454 \t 33\n",
      "Ghosts \t 3.0 \t 47\n",
      "Peta Wilson \t 2.625 \t 32\n",
      "Ben Affleck \t 2.6136363636363638 \t 44\n",
      "mad scientist \t 2.5606060606060606 \t 33\n"
     ]
    }
   ],
   "source": [
    "s = [(k, tagAvgRating[k]) for k in sorted(tagAvgRating, key=tagAvgRating.get, reverse=True)]\n",
    "s1 = []\n",
    "for k,v in s:\n",
    "    if len(tagRating[k])>=30: s1.append((k,v))\n",
    "for k,v in s1[:16]:\n",
    "    print(k,'\\t',v,'\\t',len(tagRating[k]))    \n",
    "for k,v in s1[-15:]:\n",
    "    print(k,'\\t',v,'\\t',len(tagRating[k]))    "
   ]
  },
  {
   "cell_type": "code",
   "execution_count": 157,
   "metadata": {
    "collapsed": true
   },
   "outputs": [],
   "source": [
    "movieRating=defaultdict(list)\n",
    "for i in data:\n",
    "    movieRating[i[1]].append(i[2])\n",
    "movieAvgRating=defaultdict(int)\n",
    "for k,v in movieRating.items():\n",
    "    li=[float(i) for i in v]\n",
    "    movieAvgRating[k]=np.mean(li)        "
   ]
  },
  {
   "cell_type": "code",
   "execution_count": 170,
   "metadata": {},
   "outputs": [
    {
     "name": "stdout",
     "output_type": "stream",
     "text": [
      "Shawshank Redemption, The (1994) 318 \t 4.429022082018927 \t 317\n",
      "Godfather, The (1972) 858 \t 4.2890625 \t 192\n",
      "Fight Club (1999) 2959 \t 4.272935779816514 \t 218\n",
      "Cool Hand Luke (1967) 1276 \t 4.271929824561403 \t 57\n",
      "Dr. Strangelove or: How I Learned to Stop Worrying and Love the Bomb (1964) 750 \t 4.268041237113402 \t 97\n",
      "Johnny Mnemonic (1995) \t 2.6792452830188678 \t 53\n",
      "Judge Dredd (1995) \t 2.6693548387096775 \t 62\n",
      "City Slickers II: The Legend of Curly's Gold (1994) \t 2.6454545454545455 \t 55\n",
      "Coneheads (1993) \t 2.4206349206349205 \t 63\n",
      "Wild Wild West (1999) \t 2.207547169811321 \t 53\n"
     ]
    }
   ],
   "source": [
    "s = [(k, movieAvgRating[k]) for k in sorted(movieAvgRating, key=movieAvgRating.get, reverse=True)]\n",
    "s1 = []\n",
    "for k,v in s:\n",
    "    if len(movieRating[k])>=50: s1.append((k,v))\n",
    "for k,v in s1[:5]:\n",
    "    print(idToName[k],k,'\\t',v,'\\t',len(movieRating[k]))    \n",
    "for k,v in s1[-5:]:\n",
    "    print(idToName[k],'\\t',v,'\\t',len(movieRating[k]))    "
   ]
  },
  {
   "cell_type": "code",
   "execution_count": 245,
   "metadata": {},
   "outputs": [
    {
     "data": {
      "image/png": "[encoded data removed]",
      "text/plain": [
       "<matplotlib.figure.Figure at 0x19c160fa5f8>"
      ]
     },
     "metadata": {},
     "output_type": "display_data"
    }
   ],
   "source": [
    "tmp = [float(i) for i in genreRating['Film-Noir']]\n",
    "tmp2 = [float(i) for i in genreRating['War']]\n",
    "tmp3 = [float(i) for i in genreRating['Documentary']]\n",
    "tmp4 = [float(i) for i in genreRating['Crime']]\n",
    "tmp5 = [float(i) for i in genreRating['Drama']]\n",
    "plotdata=[tmp,tmp2,tmp3,tmp4,tmp5]\n",
    "import matplotlib.pyplot as plt\n",
    "yticks = ['Film-Noir','War','Documentary','Crime','Drama']\n",
    "y= np.array([1,2,3,4,5])\n",
    "fg=plt.figure()\n",
    "plt.boxplot(plotdata, 0, '',0,showmeans=True)\n",
    "plt.yticks(y, yticks)\n",
    "for i in range(len(plotdata)):\n",
    "        y = plotdata[i]\n",
    "        x = [i]*len(y)\n",
    "        plt.plot(y,x, 'r.', alpha=0.2)\n",
    "\n",
    "plt.show()\n",
    "\n",
    "\n"
   ]
  },
  {
   "cell_type": "code",
   "execution_count": null,
   "metadata": {
    "collapsed": true
   },
   "outputs": [],
   "source": [
    "y= np.array([1,2,3,4,5])\n",
    "fg=plt.figure()\n",
    "plt.boxplot(plotdata, 0, '',0,showmeans=True)\n",
    "plt.yticks(y, yticks)\n",
    "for i in range(len(plotdata)):\n",
    "        y = plotdata[i]\n",
    "        x = [i]*len(y)\n",
    "        plt.plot(y,x, 'r.', alpha=0.2)\n",
    "\n",
    "plt.show()"
   ]
  },
  {
   "cell_type": "code",
   "execution_count": null,
   "metadata": {
    "collapsed": true
   },
   "outputs": [],
   "source": []
  },
  {
   "cell_type": "code",
   "execution_count": null,
   "metadata": {
    "collapsed": true
   },
   "outputs": [],
   "source": []
  }
 ],
 "metadata": {
  "kernelspec": {
   "display_name": "Python [conda env:Anaconda3]",
   "language": "python",
   "name": "conda-env-Anaconda3-py"
  },
  "language_info": {
   "codemirror_mode": {
    "name": "ipython",
    "version": 3
   },
   "file_extension": ".py",
   "mimetype": "text/x-python",
   "name": "python",
   "nbconvert_exporter": "python",
   "pygments_lexer": "ipython3",
   "version": "3.5.3"
  }
 },
 "nbformat": 4,
 "nbformat_minor": 2
}
