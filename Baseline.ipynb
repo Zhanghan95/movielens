{
 "cells": [
  {
   "cell_type": "code",
   "execution_count": 17,
   "metadata": {},
   "outputs": [
    {
     "name": "stdout",
     "output_type": "stream",
     "text": [
      "Processed 100837 rows.\n"
     ]
    }
   ],
   "source": [
    "import csv\n",
    "\n",
    "data = []\n",
    "\n",
    "with open('./ml-latest-small/ratings.csv') as ratings:\n",
    "    rating_reader = csv.reader(ratings, delimiter=',')\n",
    "    line_count = 0\n",
    "    for row in rating_reader:\n",
    "        if line_count == 0:\n",
    "            line_count += 1\n",
    "            continue\n",
    "        else:\n",
    "            # row is a list of string with the form [userId, movieId, rating, timestamp]\n",
    "            data.append(row)\n",
    "            line_count += 1\n",
    "    print('Processed ' + str(line_count) + ' rows.')"
   ]
  },
  {
   "cell_type": "code",
   "execution_count": 29,
   "metadata": {},
   "outputs": [
    {
     "name": "stdout",
     "output_type": "stream",
     "text": [
      "The performance of this predictior(in terms of MSE) on the testing set is 0.891161930776\n"
     ]
    }
   ],
   "source": [
    "from random import shuffle\n",
    "from collections import defaultdict\n",
    "shuffle(data)\n",
    "\n",
    "training_set = data[0:len(data)//3]\n",
    "validation_set = data[len(data)//3:len(data)//3*2]\n",
    "testing_set = data[len(data)//3*2:len(data)]\n",
    "\n",
    "allRatings = []\n",
    "userRatings = defaultdict(list)\n",
    "\n",
    "for l in training_set:\n",
    "    user,movie = l[0],l[1]\n",
    "    allRatings.append(float(l[2]))\n",
    "    userRatings[user].append(float(l[2]))\n",
    "\n",
    "globalAverage = sum(allRatings) / len(allRatings)\n",
    "userAverage = {}\n",
    "for u in userRatings:\n",
    "    userAverage[u] = sum(userRatings[u]) / len(userRatings[u])\n",
    "\n",
    "MSE = 0\n",
    "# calculating prediction accuracy\n",
    "for l in testing_set:\n",
    "    u,m,r = l[0],l[1],float(l[2])\n",
    "    if u in userAverage:\n",
    "        prediction = userAverage[u]\n",
    "    else:\n",
    "        prediction = globalAverage\n",
    "    MSE += pow(prediction-r, 2)\n",
    "\n",
    "MSE = MSE / len(testing_set)\n",
    "\n",
    "print('The performance of this predictior(in terms of MSE) on the testing set is ' + str(MSE))"
   ]
  },
  {
   "cell_type": "code",
   "execution_count": null,
   "metadata": {},
   "outputs": [],
   "source": []
  }
 ],
 "metadata": {
  "kernelspec": {
   "display_name": "Python 3",
   "language": "python",
   "name": "python3"
  },
  "language_info": {
   "codemirror_mode": {
    "name": "ipython",
    "version": 2
   },
   "file_extension": ".py",
   "mimetype": "text/x-python",
   "name": "python",
   "nbconvert_exporter": "python",
   "pygments_lexer": "ipython2",
   "version": "2.7.15"
  }
 },
 "nbformat": 4,
 "nbformat_minor": 2
}
