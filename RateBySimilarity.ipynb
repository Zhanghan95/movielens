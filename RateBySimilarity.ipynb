{
 "cells": [
  {
   "cell_type": "code",
   "execution_count": 7,
   "metadata": {},
   "outputs": [
    {
     "name": "stdout",
     "output_type": "stream",
     "text": [
      "Processed 100837 rows.\n",
      "Processed 9743 rows.\n"
     ]
    }
   ],
   "source": [
    "import csv\n",
    "\n",
    "data = []\n",
    "\n",
    "with open('./ml-latest-small/ratings.csv') as ratings:\n",
    "    rating_reader = csv.reader(ratings, delimiter=',')\n",
    "    line_count = 0\n",
    "    for row in rating_reader:\n",
    "        if line_count == 0:\n",
    "            line_count += 1\n",
    "            continue\n",
    "        else:\n",
    "            # row is a list of string with the form [userId, movieId, rating, timestamp]\n",
    "            data.append(row)\n",
    "            line_count += 1\n",
    "    print('Processed ' + str(line_count) + ' rows.')\n",
    "genres=[]\n",
    "with open('./ml-latest-small/movies.csv') as ratings:\n",
    "    rating_reader = csv.reader(ratings, delimiter=',')\n",
    "    line_count = 0\n",
    "    for row in rating_reader:\n",
    "        if line_count == 0:\n",
    "            line_count += 1\n",
    "            continue\n",
    "        else:\n",
    "            # row is a list of string with the form [userId, movieId, rating, timestamp]\n",
    "            genres.append(row)\n",
    "            line_count += 1\n",
    "    print('Processed ' + str(line_count) + ' rows.')    "
   ]
  },
  {
   "cell_type": "code",
   "execution_count": 8,
   "metadata": {},
   "outputs": [],
   "source": [
    "from random import shuffle\n",
    "from collections import defaultdict\n",
    "shuffle(data)\n",
    "for d in data: d[2]=float(d[2])\n",
    "train = data[0:len(data)//3]\n",
    "validation = data[len(data)//3:len(data)//3*2]\n",
    "test = data[len(data)//3*2:len(data)]\n",
    "\n",
    "\n",
    "userMovie = defaultdict(list)\n",
    "#userid->[movieid,rating]\n",
    "MovieUser = defaultdict(list)\n",
    "#movieid->[userid,rating]\n",
    "\n",
    "for d in train:\n",
    "    u = d[0]\n",
    "    i = d[1]\n",
    "    rating = d[2]\n",
    "    userMovie[u].append([i,rating])\n",
    "    MovieUser[i].append([u,rating])"
   ]
  },
  {
   "cell_type": "code",
   "execution_count": 9,
   "metadata": {},
   "outputs": [],
   "source": [
    "\n",
    "# userGenres=defaultdict(set)\n",
    "movieGenres=defaultdict(set)\n",
    "gen=set()\n",
    "for d in genres:\n",
    "    mid = d[0]\n",
    "    gs = d[2].split(\"|\")\n",
    "    for g in gs:\n",
    "        gen.add(g)\n",
    "        movieGenres[mid].add(g)\n",
    "gen=list(gen)\n"
   ]
  },
  {
   "cell_type": "code",

   "execution_count": 51,
   "metadata": {},
   "outputs": [
    {
     "data": {
      "text/plain": [
       "3.3677942480679097"
      ]
     },
     "execution_count": 51,
     "metadata": {},
     "output_type": "execute_result"
    }
   ],
   "source": [
    "#rating by jaccard similarity\n",
    "#if watched return the value, else use jaccard\n",
    "def predict(movie,user):\n",
    "    genrem=movieGenres[movie]\n",
    "    denom=0.0\n",
    "    num=0.0\n",
    "    for m in userMovie[user]:\n",
    "#         print(m[1])\n",
    "#         if movie == m[0]: return float(m[1])\n",
    "        sim = jaccard(genrem,movieGenres[m[0]])\n",
    "        denom+=sim\n",
    "        num+=sim*m[1]\n",
    "    return num/denom    \n",
    "def jaccard(a,b):\n",
    "#     print(a,b)\n",
    "    intersect=a&b\n",
    "    union=a|b\n",
    "    return len(intersect)/len(union)\n",
    "\n",
    "\n",
    "predict('162350','596')"
   ]
  },
  {
   "cell_type": "code",
   "execution_count": 56,
   "metadata": {},
   "outputs": [
    {
     "name": "stdout",
     "output_type": "stream",
     "text": [
      "3.46743808789\n",
      "3.57728898318\n"
     ]
    }
   ],
   "source": [
    "#rating by cosine similarity\n",
    "#if watched return the value, else use jaccard\n",
    "from sklearn.metrics.pairwise import cosine_similarity\n",
    "import warnings, math\n",
    "warnings.filterwarnings(\"ignore\", category=DeprecationWarning)\n",
    "def predict(movie,user):\n",
    "    genrem=movieGenres[movie]\n",
    "    denom=0.0\n",
    "    num=0.0\n",
    "    for m in userMovie[user]:\n",
    "#         print(m[1])\n",
    "#         if movie == m[0]: return float(m[1])\n",
    "        sim = cosine(genrem,movieGenres[m[0]])\n",
    "        denom+=sim\n",
    "        num+=sim*m[1]\n",
    "    return num/denom\n",
    "\n",
    "def cosine(a,b):\n",
    "    list1=[0]*len(gen)\n",
    "    list2=[0]*len(gen)\n",
    "    for i in range(len(gen)):\n",
    "        if gen[i] in a: list1[i]=1\n",
    "        if gen[i] in b: list2[i]=1\n",
    "    res=(sum(i[0] * i[1] for i in zip(list1, list2))) * 1.0 / math.sqrt((sum(list1)*sum(list2)))\n",
    "#     print(type(res))\n",
    "    return res \n",
    "predict('318','596')"
   ]
  },
  {
   "cell_type": "code",
   "execution_count": 53,
   "metadata": {},
   "outputs": [
    {
     "data": {
      "text/plain": [
       "3.627906976744186"
      ]
     },
     "execution_count": 53,
     "metadata": {},
     "output_type": "execute_result"
    }
   ],
   "source": [
    "def movieRating(movie):\n",
    "    rating = [0]*len(userMovie)\n",
    "    i = 0\n",
    "    for u in userMovie:\n",
    "        for pair in userMovie[u]:\n",
    "            if pair[0] == movie:\n",
    "                rating[i] = pair[1]\n",
    "        i += 1\n",
    "    return rating\n",
    "\n",
    "def predictPearson(movie,user):\n",
    "    ratingm = movieRating(movie)\n",
    "    denom=0.0\n",
    "    num=0.0\n",
    "    for m in userMovie[user]:\n",
    "#         print(m[1])\n",
    "        #if movie == m[0]: return float(m[1])\n",
    "        sim = pearson(ratingm,movieRating(m[0]))\n",
    "        denom+=sim\n",
    "        num+=sim*m[1]\n",
    "    return num/denom\n",
    "\n",
    "def pearson(a,b):\n",
    "    average = [(i[0]+i[1])*1.0/2 for i in zip(a, b)]\n",
    "    list1 = [i[0]-i[1] for i in zip(a, average)]\n",
    "    list2 = [i[0]-i[1] for i in zip(b, average)]\n",
    "    res=(sum(i[0] * i[1] for i in zip(list1, list2))) * 1.0 / (model(list1)*model(list2))\n",
    "#     print(type(res))\n",
    "    return res\n",
    "\n",
    "def model(l):\n",
    "    sum = 0\n",
    "    for elem in l:\n",
    "        sum += elem * elem\n",
    "    if (sum == 0):\n",
    "        sum = 0.000001\n",
    "    return math.sqrt(sum)\n",
    "\n",
    "predictPearson('119145','10')"
   ]
  },
  {
   "cell_type": "code",
   "execution_count": null,
   "metadata": {
    "collapsed": true
   },
   "outputs": [],
   "source": []
  }
 ],
 "metadata": {
  "kernelspec": {
   "display_name": "Python 3",
   "language": "python",
   "name": "python3"
  },
  "language_info": {
   "codemirror_mode": {
    "name": "ipython",
    "version": 2
   },
   "file_extension": ".py",
   "mimetype": "text/x-python",
   "name": "python",
   "nbconvert_exporter": "python",
   "pygments_lexer": "ipython2",
   "version": "2.7.15"
  }
 },
 "nbformat": 4,
 "nbformat_minor": 2
}
